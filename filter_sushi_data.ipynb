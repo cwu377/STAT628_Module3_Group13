{
 "cells": [
  {
   "cell_type": "code",
   "execution_count": 1,
   "id": "2f5431a1",
   "metadata": {},
   "outputs": [],
   "source": [
    "import numpy as np\n",
    "import pandas as pd\n",
    "import json"
   ]
  },
  {
   "cell_type": "code",
   "execution_count": 6,
   "id": "98fd5d8b",
   "metadata": {},
   "outputs": [],
   "source": [
    "busi=pd.read_json(\"file:///D:/Class/MSDS1/628/yelp_dataset_2022/business.json\",lines=True,orient=\"records\")"
   ]
  },
  {
   "cell_type": "code",
   "execution_count": 9,
   "id": "dd719eae",
   "metadata": {},
   "outputs": [],
   "source": [
    "sushi=busi[busi[\"categories\"].str.contains(\"Sushi|Japanese\",na=False)]"
   ]
  },
  {
   "cell_type": "code",
   "execution_count": 12,
   "id": "26e645bb",
   "metadata": {},
   "outputs": [
    {
     "data": {
      "text/plain": [
       "(2459, 14)"
      ]
     },
     "execution_count": 12,
     "metadata": {},
     "output_type": "execute_result"
    }
   ],
   "source": [
    "sushi.shape"
   ]
  },
  {
   "cell_type": "code",
   "execution_count": 14,
   "id": "ef908959",
   "metadata": {},
   "outputs": [],
   "source": [
    "sushi.to_csv(\"sushi.csv\")"
   ]
  },
  {
   "cell_type": "code",
   "execution_count": 15,
   "id": "7b97bc82",
   "metadata": {},
   "outputs": [],
   "source": [
    "sushi_id=sushi[\"business_id\"].tolist()"
   ]
  },
  {
   "cell_type": "code",
   "execution_count": 20,
   "id": "cf34b114",
   "metadata": {},
   "outputs": [],
   "source": [
    "review_sample=pd.DataFrame()\n",
    "for chunk in pd.read_json(\"review.json\",lines=True,chunksize=50000):\n",
    "    review_sample=pd.concat([review_sample,chunk[chunk[\"business_id\"].isin(sushi_id)]])"
   ]
  },
  {
   "cell_type": "code",
   "execution_count": 21,
   "id": "c6d68522",
   "metadata": {},
   "outputs": [
    {
     "data": {
      "text/plain": [
       "(291619, 9)"
      ]
     },
     "execution_count": 21,
     "metadata": {},
     "output_type": "execute_result"
    }
   ],
   "source": [
    "review_sample.shape"
   ]
  },
  {
   "cell_type": "code",
   "execution_count": 22,
   "id": "03c34cee",
   "metadata": {},
   "outputs": [],
   "source": [
    "review_sample.to_csv(\"sushi_review.csv\")"
   ]
  },
  {
   "cell_type": "code",
   "execution_count": null,
   "id": "cb9cadf2",
   "metadata": {},
   "outputs": [],
   "source": []
  }
 ],
 "metadata": {
  "kernelspec": {
   "display_name": "Python 3 (ipykernel)",
   "language": "python",
   "name": "python3"
  },
  "language_info": {
   "codemirror_mode": {
    "name": "ipython",
    "version": 3
   },
   "file_extension": ".py",
   "mimetype": "text/x-python",
   "name": "python",
   "nbconvert_exporter": "python",
   "pygments_lexer": "ipython3",
   "version": "3.9.7"
  }
 },
 "nbformat": 4,
 "nbformat_minor": 5
}
