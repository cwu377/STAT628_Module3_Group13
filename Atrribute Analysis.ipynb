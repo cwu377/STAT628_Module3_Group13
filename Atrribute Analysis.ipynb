{
  "nbformat": 4,
  "nbformat_minor": 0,
  "metadata": {
    "colab": {
      "provenance": []
    },
    "kernelspec": {
      "name": "python3",
      "display_name": "Python 3"
    },
    "language_info": {
      "name": "python"
    }
  },
  "cells": [
    {
      "cell_type": "code",
      "execution_count": 2,
      "metadata": {
        "id": "giWz9i1annJs"
      },
      "outputs": [],
      "source": [
        "import numpy as np\n",
        "import pandas as pd\n",
        "import ast\n",
        "import seaborn as sns\n",
        "import matplotlib.pyplot as plt "
      ]
    },
    {
      "cell_type": "code",
      "source": [
        "sushi = pd.read_csv(\"sushi.csv\", index_col = 0)\n",
        "print(len(sushi))\n",
        "sushi.head()\n"
      ],
      "metadata": {
        "colab": {
          "base_uri": "https://localhost:8080/",
          "height": 548
        },
        "id": "vXqGrOEdnpdW",
        "outputId": "436b9ce7-80a1-4abd-8522-c354d7ed66fc"
      },
      "execution_count": 4,
      "outputs": [
        {
          "output_type": "stream",
          "name": "stdout",
          "text": [
            "2459\n"
          ]
        },
        {
          "output_type": "execute_result",
          "data": {
            "text/plain": [
              "                business_id                         name  \\\n",
              "15   MUTTqe8uqyMdBl186RmNeA                     Tuna Bar   \n",
              "27   tMkwHmWFUEXrC9ZduonpTg           The Green Pheasant   \n",
              "83   NZ_bFJma7brQUfln5h1UAg          Super Sushi Kyo Hin   \n",
              "151  WYYdQDjx-DsCanlP0DpImQ                      J Sushi   \n",
              "186  7Du9oW73YcYFmXdtU5aiSg  Kinjo's Japanese Restaurant   \n",
              "\n",
              "                  address              city state postal_code   latitude  \\\n",
              "15            205 Race St      Philadelphia    PA       19106  39.953949   \n",
              "27          215 1st Ave S         Nashville    TN       37201  36.159886   \n",
              "83   2501 Mt Holly Rd 245        Burlington    NJ       08016  40.041629   \n",
              "151         243 S 10th St      Philadelphia    PA       19107  39.947033   \n",
              "186    2875 Tyrone Blvd N  Saint Petersburg    FL       33710  27.797263   \n",
              "\n",
              "     longitude  stars  review_count  is_open  \\\n",
              "15  -75.143226    4.0           245        1   \n",
              "27  -86.773197    4.0           161        0   \n",
              "83  -74.825821    3.5             6        0   \n",
              "151 -75.157434    4.5            72        0   \n",
              "186 -82.733913    3.5            17        0   \n",
              "\n",
              "                                            attributes  \\\n",
              "15   {'RestaurantsReservations': 'True', 'Restauran...   \n",
              "27   {'RestaurantsGoodForGroups': 'True', 'HappyHou...   \n",
              "83   {'RestaurantsReservations': 'True', 'Restauran...   \n",
              "151  {'Ambience': \"{'touristy': False, 'hipster': F...   \n",
              "186  {'RestaurantsPriceRange2': '2', 'RestaurantsGo...   \n",
              "\n",
              "                                          categories  \\\n",
              "15                 Sushi Bars, Restaurants, Japanese   \n",
              "27                    Restaurants, Japanese, Seafood   \n",
              "83   Restaurants, Japanese, Sushi Bars, Asian Fusion   \n",
              "151       Seafood, Restaurants, Sushi Bars, Japanese   \n",
              "186                Japanese, Sushi Bars, Restaurants   \n",
              "\n",
              "                                                 hours  \n",
              "15   {'Tuesday': '13:30-22:0', 'Wednesday': '13:30-...  \n",
              "27   {'Wednesday': '16:0-22:0', 'Thursday': '16:0-2...  \n",
              "83                                                 NaN  \n",
              "151  {'Tuesday': '11:0-22:0', 'Wednesday': '11:0-22...  \n",
              "186  {'Monday': '12:0-22:0', 'Tuesday': '12:0-22:0'...  "
            ],
            "text/html": [
              "\n",
              "  <div id=\"df-fe289b7b-f58a-49b1-8c4f-63a35f1e08ad\">\n",
              "    <div class=\"colab-df-container\">\n",
              "      <div>\n",
              "<style scoped>\n",
              "    .dataframe tbody tr th:only-of-type {\n",
              "        vertical-align: middle;\n",
              "    }\n",
              "\n",
              "    .dataframe tbody tr th {\n",
              "        vertical-align: top;\n",
              "    }\n",
              "\n",
              "    .dataframe thead th {\n",
              "        text-align: right;\n",
              "    }\n",
              "</style>\n",
              "<table border=\"1\" class=\"dataframe\">\n",
              "  <thead>\n",
              "    <tr style=\"text-align: right;\">\n",
              "      <th></th>\n",
              "      <th>business_id</th>\n",
              "      <th>name</th>\n",
              "      <th>address</th>\n",
              "      <th>city</th>\n",
              "      <th>state</th>\n",
              "      <th>postal_code</th>\n",
              "      <th>latitude</th>\n",
              "      <th>longitude</th>\n",
              "      <th>stars</th>\n",
              "      <th>review_count</th>\n",
              "      <th>is_open</th>\n",
              "      <th>attributes</th>\n",
              "      <th>categories</th>\n",
              "      <th>hours</th>\n",
              "    </tr>\n",
              "  </thead>\n",
              "  <tbody>\n",
              "    <tr>\n",
              "      <th>15</th>\n",
              "      <td>MUTTqe8uqyMdBl186RmNeA</td>\n",
              "      <td>Tuna Bar</td>\n",
              "      <td>205 Race St</td>\n",
              "      <td>Philadelphia</td>\n",
              "      <td>PA</td>\n",
              "      <td>19106</td>\n",
              "      <td>39.953949</td>\n",
              "      <td>-75.143226</td>\n",
              "      <td>4.0</td>\n",
              "      <td>245</td>\n",
              "      <td>1</td>\n",
              "      <td>{'RestaurantsReservations': 'True', 'Restauran...</td>\n",
              "      <td>Sushi Bars, Restaurants, Japanese</td>\n",
              "      <td>{'Tuesday': '13:30-22:0', 'Wednesday': '13:30-...</td>\n",
              "    </tr>\n",
              "    <tr>\n",
              "      <th>27</th>\n",
              "      <td>tMkwHmWFUEXrC9ZduonpTg</td>\n",
              "      <td>The Green Pheasant</td>\n",
              "      <td>215 1st Ave S</td>\n",
              "      <td>Nashville</td>\n",
              "      <td>TN</td>\n",
              "      <td>37201</td>\n",
              "      <td>36.159886</td>\n",
              "      <td>-86.773197</td>\n",
              "      <td>4.0</td>\n",
              "      <td>161</td>\n",
              "      <td>0</td>\n",
              "      <td>{'RestaurantsGoodForGroups': 'True', 'HappyHou...</td>\n",
              "      <td>Restaurants, Japanese, Seafood</td>\n",
              "      <td>{'Wednesday': '16:0-22:0', 'Thursday': '16:0-2...</td>\n",
              "    </tr>\n",
              "    <tr>\n",
              "      <th>83</th>\n",
              "      <td>NZ_bFJma7brQUfln5h1UAg</td>\n",
              "      <td>Super Sushi Kyo Hin</td>\n",
              "      <td>2501 Mt Holly Rd 245</td>\n",
              "      <td>Burlington</td>\n",
              "      <td>NJ</td>\n",
              "      <td>08016</td>\n",
              "      <td>40.041629</td>\n",
              "      <td>-74.825821</td>\n",
              "      <td>3.5</td>\n",
              "      <td>6</td>\n",
              "      <td>0</td>\n",
              "      <td>{'RestaurantsReservations': 'True', 'Restauran...</td>\n",
              "      <td>Restaurants, Japanese, Sushi Bars, Asian Fusion</td>\n",
              "      <td>NaN</td>\n",
              "    </tr>\n",
              "    <tr>\n",
              "      <th>151</th>\n",
              "      <td>WYYdQDjx-DsCanlP0DpImQ</td>\n",
              "      <td>J Sushi</td>\n",
              "      <td>243 S 10th St</td>\n",
              "      <td>Philadelphia</td>\n",
              "      <td>PA</td>\n",
              "      <td>19107</td>\n",
              "      <td>39.947033</td>\n",
              "      <td>-75.157434</td>\n",
              "      <td>4.5</td>\n",
              "      <td>72</td>\n",
              "      <td>0</td>\n",
              "      <td>{'Ambience': \"{'touristy': False, 'hipster': F...</td>\n",
              "      <td>Seafood, Restaurants, Sushi Bars, Japanese</td>\n",
              "      <td>{'Tuesday': '11:0-22:0', 'Wednesday': '11:0-22...</td>\n",
              "    </tr>\n",
              "    <tr>\n",
              "      <th>186</th>\n",
              "      <td>7Du9oW73YcYFmXdtU5aiSg</td>\n",
              "      <td>Kinjo's Japanese Restaurant</td>\n",
              "      <td>2875 Tyrone Blvd N</td>\n",
              "      <td>Saint Petersburg</td>\n",
              "      <td>FL</td>\n",
              "      <td>33710</td>\n",
              "      <td>27.797263</td>\n",
              "      <td>-82.733913</td>\n",
              "      <td>3.5</td>\n",
              "      <td>17</td>\n",
              "      <td>0</td>\n",
              "      <td>{'RestaurantsPriceRange2': '2', 'RestaurantsGo...</td>\n",
              "      <td>Japanese, Sushi Bars, Restaurants</td>\n",
              "      <td>{'Monday': '12:0-22:0', 'Tuesday': '12:0-22:0'...</td>\n",
              "    </tr>\n",
              "  </tbody>\n",
              "</table>\n",
              "</div>\n",
              "      <button class=\"colab-df-convert\" onclick=\"convertToInteractive('df-fe289b7b-f58a-49b1-8c4f-63a35f1e08ad')\"\n",
              "              title=\"Convert this dataframe to an interactive table.\"\n",
              "              style=\"display:none;\">\n",
              "        \n",
              "  <svg xmlns=\"http://www.w3.org/2000/svg\" height=\"24px\"viewBox=\"0 0 24 24\"\n",
              "       width=\"24px\">\n",
              "    <path d=\"M0 0h24v24H0V0z\" fill=\"none\"/>\n",
              "    <path d=\"M18.56 5.44l.94 2.06.94-2.06 2.06-.94-2.06-.94-.94-2.06-.94 2.06-2.06.94zm-11 1L8.5 8.5l.94-2.06 2.06-.94-2.06-.94L8.5 2.5l-.94 2.06-2.06.94zm10 10l.94 2.06.94-2.06 2.06-.94-2.06-.94-.94-2.06-.94 2.06-2.06.94z\"/><path d=\"M17.41 7.96l-1.37-1.37c-.4-.4-.92-.59-1.43-.59-.52 0-1.04.2-1.43.59L10.3 9.45l-7.72 7.72c-.78.78-.78 2.05 0 2.83L4 21.41c.39.39.9.59 1.41.59.51 0 1.02-.2 1.41-.59l7.78-7.78 2.81-2.81c.8-.78.8-2.07 0-2.86zM5.41 20L4 18.59l7.72-7.72 1.47 1.35L5.41 20z\"/>\n",
              "  </svg>\n",
              "      </button>\n",
              "      \n",
              "  <style>\n",
              "    .colab-df-container {\n",
              "      display:flex;\n",
              "      flex-wrap:wrap;\n",
              "      gap: 12px;\n",
              "    }\n",
              "\n",
              "    .colab-df-convert {\n",
              "      background-color: #E8F0FE;\n",
              "      border: none;\n",
              "      border-radius: 50%;\n",
              "      cursor: pointer;\n",
              "      display: none;\n",
              "      fill: #1967D2;\n",
              "      height: 32px;\n",
              "      padding: 0 0 0 0;\n",
              "      width: 32px;\n",
              "    }\n",
              "\n",
              "    .colab-df-convert:hover {\n",
              "      background-color: #E2EBFA;\n",
              "      box-shadow: 0px 1px 2px rgba(60, 64, 67, 0.3), 0px 1px 3px 1px rgba(60, 64, 67, 0.15);\n",
              "      fill: #174EA6;\n",
              "    }\n",
              "\n",
              "    [theme=dark] .colab-df-convert {\n",
              "      background-color: #3B4455;\n",
              "      fill: #D2E3FC;\n",
              "    }\n",
              "\n",
              "    [theme=dark] .colab-df-convert:hover {\n",
              "      background-color: #434B5C;\n",
              "      box-shadow: 0px 1px 3px 1px rgba(0, 0, 0, 0.15);\n",
              "      filter: drop-shadow(0px 1px 2px rgba(0, 0, 0, 0.3));\n",
              "      fill: #FFFFFF;\n",
              "    }\n",
              "  </style>\n",
              "\n",
              "      <script>\n",
              "        const buttonEl =\n",
              "          document.querySelector('#df-fe289b7b-f58a-49b1-8c4f-63a35f1e08ad button.colab-df-convert');\n",
              "        buttonEl.style.display =\n",
              "          google.colab.kernel.accessAllowed ? 'block' : 'none';\n",
              "\n",
              "        async function convertToInteractive(key) {\n",
              "          const element = document.querySelector('#df-fe289b7b-f58a-49b1-8c4f-63a35f1e08ad');\n",
              "          const dataTable =\n",
              "            await google.colab.kernel.invokeFunction('convertToInteractive',\n",
              "                                                     [key], {});\n",
              "          if (!dataTable) return;\n",
              "\n",
              "          const docLinkHtml = 'Like what you see? Visit the ' +\n",
              "            '<a target=\"_blank\" href=https://colab.research.google.com/notebooks/data_table.ipynb>data table notebook</a>'\n",
              "            + ' to learn more about interactive tables.';\n",
              "          element.innerHTML = '';\n",
              "          dataTable['output_type'] = 'display_data';\n",
              "          await google.colab.output.renderOutput(dataTable, element);\n",
              "          const docLink = document.createElement('div');\n",
              "          docLink.innerHTML = docLinkHtml;\n",
              "          element.appendChild(docLink);\n",
              "        }\n",
              "      </script>\n",
              "    </div>\n",
              "  </div>\n",
              "  "
            ]
          },
          "metadata": {},
          "execution_count": 4
        }
      ]
    },
    {
      "cell_type": "code",
      "source": [
        "sushi_light = sushi.loc[~(pd.isna(sushi[\"attributes\"])), \n",
        "                    [\"business_id\", \"name\", \"address\", \"state\", \"city\", \"stars\", \"postal_code\",\"latitude\",\"longitude\", \"review_count\", \"attributes\", \"categories\", \"hours\"]]"
      ],
      "metadata": {
        "id": "xYedYatAsf6T"
      },
      "execution_count": 28,
      "outputs": []
    },
    {
      "cell_type": "markdown",
      "source": [
   ],
      "metadata": {
        "id": "HWT2cgENrZOY"
      }
    },
    {
      "cell_type": "code",
      "source": [
        "sushi_light[\"attributes\"] = sushi_light[\"attributes\"].apply(ast.literal_eval)\n",
        "attr_df= pd.json_normalize(sushi_light[\"attributes\"])\n",
        "attr_df.index = sushi_light.index\n",
        "sushi_comb = sushi_light.join(attr_df)\n",
        "sushi_comb.head"
      ],
      "metadata": {
        "colab": {
          "base_uri": "https://localhost:8080/"
        },
        "id": "fJGFAQ6GoF67",
        "outputId": "db5a8548-ea17-4598-ca77-baed28b1c0d9"
      },
      "execution_count": 29,
      "outputs": [
        {
          "output_type": "execute_result",
          "data": {
            "text/plain": [
              "<bound method NDFrame.head of                    business_id                         name  \\\n",
              "15      MUTTqe8uqyMdBl186RmNeA                     Tuna Bar   \n",
              "27      tMkwHmWFUEXrC9ZduonpTg           The Green Pheasant   \n",
              "83      NZ_bFJma7brQUfln5h1UAg          Super Sushi Kyo Hin   \n",
              "151     WYYdQDjx-DsCanlP0DpImQ                      J Sushi   \n",
              "186     7Du9oW73YcYFmXdtU5aiSg  Kinjo's Japanese Restaurant   \n",
              "...                        ...                          ...   \n",
              "150025  ANTj0UD-OS7Zod3mulUg6w                  Fork & Stix   \n",
              "150171  8wjRidyw7pqepAf5MncA-g                 Tokiwa Ramen   \n",
              "150201  xGcpC8D4Sio-bN9KCr054g     Zen Bistro Grill + Sushi   \n",
              "150214  2xxkaRy7rP5EUyjFt2J5kA                  Nikka Ramen   \n",
              "150276  Rn3DtOiuJtc3whFySWXs5Q             Japanese Village   \n",
              "\n",
              "                      address state              city  stars postal_code  \\\n",
              "15                205 Race St    PA      Philadelphia    4.0       19106   \n",
              "27              215 1st Ave S    TN         Nashville    4.0       37201   \n",
              "83       2501 Mt Holly Rd 245    NJ        Burlington    3.5       08016   \n",
              "151             243 S 10th St    PA      Philadelphia    4.5       19107   \n",
              "186        2875 Tyrone Blvd N    FL  Saint Petersburg    3.5       33710   \n",
              "...                       ...   ...               ...    ...         ...   \n",
              "150025       549 Rosedale Ave    MO       Saint Louis    4.0       63112   \n",
              "150171       11978 104 Avenue    AB          Edmonton    4.0     T5K 0T3   \n",
              "150201  2223 N Westshore Blvd    FL             Tampa    3.5       33607   \n",
              "150214        5701 Calle Real    CA            Goleta    4.5       93117   \n",
              "150276  2940 Calgary Trail NW    AB          Edmonton    3.0     T6J 7C2   \n",
              "\n",
              "         latitude   longitude  review_count  ... CoatCheck  \\\n",
              "15      39.953949  -75.143226           245  ...       NaN   \n",
              "27      36.159886  -86.773197           161  ...       NaN   \n",
              "83      40.041629  -74.825821             6  ...       NaN   \n",
              "151     39.947033  -75.157434            72  ...       NaN   \n",
              "186     27.797263  -82.733913            17  ...       NaN   \n",
              "...           ...         ...           ...  ...       ...   \n",
              "150025  38.654682  -90.296247           341  ...     False   \n",
              "150171  53.547523 -113.527754           109  ...       NaN   \n",
              "150201  27.964047  -82.521605           119  ...       NaN   \n",
              "150214  34.440885 -119.823523           562  ...       NaN   \n",
              "150276  53.463917 -113.494702            35  ...       NaN   \n",
              "\n",
              "                                                    Music GoodForDancing  \\\n",
              "15                                                    NaN            NaN   \n",
              "27                                                    NaN            NaN   \n",
              "83                                                    NaN            NaN   \n",
              "151                                                   NaN            NaN   \n",
              "186                                                   NaN            NaN   \n",
              "...                                                   ...            ...   \n",
              "150025  {'dj': False, 'background_music': False, 'no_m...          False   \n",
              "150171                                                NaN            NaN   \n",
              "150201                                                NaN            NaN   \n",
              "150214                                                NaN            NaN   \n",
              "150276                                                NaN            NaN   \n",
              "\n",
              "                                               BestNights BYOBCorkage   BYOB  \\\n",
              "15                                                    NaN         NaN    NaN   \n",
              "27                                                    NaN         NaN    NaN   \n",
              "83                                                    NaN         NaN    NaN   \n",
              "151                                                   NaN         NaN    NaN   \n",
              "186                                                   NaN         NaN    NaN   \n",
              "...                                                   ...         ...    ...   \n",
              "150025  {'monday': False, 'tuesday': False, 'friday': ...         NaN    NaN   \n",
              "150171                                                NaN         NaN    NaN   \n",
              "150201                                                NaN         NaN    NaN   \n",
              "150214                                                NaN         NaN  False   \n",
              "150276                                                NaN         NaN    NaN   \n",
              "\n",
              "       Corkage DriveThru ByAppointmentOnly AgesAllowed  \n",
              "15         NaN       NaN               NaN         NaN  \n",
              "27         NaN       NaN               NaN         NaN  \n",
              "83         NaN       NaN               NaN         NaN  \n",
              "151        NaN       NaN               NaN         NaN  \n",
              "186        NaN       NaN               NaN         NaN  \n",
              "...        ...       ...               ...         ...  \n",
              "150025     NaN       NaN               NaN         NaN  \n",
              "150171     NaN       NaN               NaN         NaN  \n",
              "150201     NaN       NaN               NaN         NaN  \n",
              "150214    True       NaN             False         NaN  \n",
              "150276     NaN       NaN               NaN         NaN  \n",
              "\n",
              "[2441 rows x 47 columns]>"
            ]
          },
          "metadata": {},
          "execution_count": 29
        }
      ]
    },
    {
      "cell_type": "code",
      "source": [
        "for idx in sushi_comb.index:\n",
        "    if type(sushi_comb.loc[idx, \"BusinessParking\"]) is str:\n",
        "        sushi_comb.loc[idx, \"BusinessParking\"] = [ast.literal_eval(sushi_comb.loc[idx, \"BusinessParking\"])]\n",
        "parking = pd.json_normalize(sushi_comb[\"BusinessParking\"])\n",
        "parking.index = sushi_comb.index\n",
        "sushi_park = sushi_comb.join(parking)\n",
        "\n",
        "sushi_park.replace('None', np.nan, inplace=True)\n",
        "sushi_park.head()\n"
      ],
      "metadata": {
        "colab": {
          "base_uri": "https://localhost:8080/",
          "height": 421
        },
        "id": "E9h9iq-connw",
        "outputId": "ca494a84-a577-41c6-a221-0897b9b62cf7"
      },
      "execution_count": 30,
      "outputs": [
        {
          "output_type": "execute_result",
          "data": {
            "text/plain": [
              "                business_id                         name  \\\n",
              "15   MUTTqe8uqyMdBl186RmNeA                     Tuna Bar   \n",
              "27   tMkwHmWFUEXrC9ZduonpTg           The Green Pheasant   \n",
              "83   NZ_bFJma7brQUfln5h1UAg          Super Sushi Kyo Hin   \n",
              "151  WYYdQDjx-DsCanlP0DpImQ                      J Sushi   \n",
              "186  7Du9oW73YcYFmXdtU5aiSg  Kinjo's Japanese Restaurant   \n",
              "\n",
              "                  address state              city  stars postal_code  \\\n",
              "15            205 Race St    PA      Philadelphia    4.0       19106   \n",
              "27          215 1st Ave S    TN         Nashville    4.0       37201   \n",
              "83   2501 Mt Holly Rd 245    NJ        Burlington    3.5       08016   \n",
              "151         243 S 10th St    PA      Philadelphia    4.5       19107   \n",
              "186    2875 Tyrone Blvd N    FL  Saint Petersburg    3.5       33710   \n",
              "\n",
              "      latitude  longitude  review_count  ... BYOB Corkage DriveThru  \\\n",
              "15   39.953949 -75.143226           245  ...  NaN     NaN       NaN   \n",
              "27   36.159886 -86.773197           161  ...  NaN     NaN       NaN   \n",
              "83   40.041629 -74.825821             6  ...  NaN     NaN       NaN   \n",
              "151  39.947033 -75.157434            72  ...  NaN     NaN       NaN   \n",
              "186  27.797263 -82.733913            17  ...  NaN     NaN       NaN   \n",
              "\n",
              "    ByAppointmentOnly AgesAllowed  valet garage street    lot validated  \n",
              "15                NaN         NaN  False   None   True  False      None  \n",
              "27                NaN         NaN   True   True  False  False      True  \n",
              "83                NaN         NaN  False  False  False   True     False  \n",
              "151               NaN         NaN  False  False   True  False     False  \n",
              "186               NaN         NaN  False  False  False   True     False  \n",
              "\n",
              "[5 rows x 52 columns]"
            ],
            "text/html": [
              "\n",
              "  <div id=\"df-87e9cdc9-9915-4917-9dee-b81bba89b44d\">\n",
              "    <div class=\"colab-df-container\">\n",
              "      <div>\n",
              "<style scoped>\n",
              "    .dataframe tbody tr th:only-of-type {\n",
              "        vertical-align: middle;\n",
              "    }\n",
              "\n",
              "    .dataframe tbody tr th {\n",
              "        vertical-align: top;\n",
              "    }\n",
              "\n",
              "    .dataframe thead th {\n",
              "        text-align: right;\n",
              "    }\n",
              "</style>\n",
              "<table border=\"1\" class=\"dataframe\">\n",
              "  <thead>\n",
              "    <tr style=\"text-align: right;\">\n",
              "      <th></th>\n",
              "      <th>business_id</th>\n",
              "      <th>name</th>\n",
              "      <th>address</th>\n",
              "      <th>state</th>\n",
              "      <th>city</th>\n",
              "      <th>stars</th>\n",
              "      <th>postal_code</th>\n",
              "      <th>latitude</th>\n",
              "      <th>longitude</th>\n",
              "      <th>review_count</th>\n",
              "      <th>...</th>\n",
              "      <th>BYOB</th>\n",
              "      <th>Corkage</th>\n",
              "      <th>DriveThru</th>\n",
              "      <th>ByAppointmentOnly</th>\n",
              "      <th>AgesAllowed</th>\n",
              "      <th>valet</th>\n",
              "      <th>garage</th>\n",
              "      <th>street</th>\n",
              "      <th>lot</th>\n",
              "      <th>validated</th>\n",
              "    </tr>\n",
              "  </thead>\n",
              "  <tbody>\n",
              "    <tr>\n",
              "      <th>15</th>\n",
              "      <td>MUTTqe8uqyMdBl186RmNeA</td>\n",
              "      <td>Tuna Bar</td>\n",
              "      <td>205 Race St</td>\n",
              "      <td>PA</td>\n",
              "      <td>Philadelphia</td>\n",
              "      <td>4.0</td>\n",
              "      <td>19106</td>\n",
              "      <td>39.953949</td>\n",
              "      <td>-75.143226</td>\n",
              "      <td>245</td>\n",
              "      <td>...</td>\n",
              "      <td>NaN</td>\n",
              "      <td>NaN</td>\n",
              "      <td>NaN</td>\n",
              "      <td>NaN</td>\n",
              "      <td>NaN</td>\n",
              "      <td>False</td>\n",
              "      <td>None</td>\n",
              "      <td>True</td>\n",
              "      <td>False</td>\n",
              "      <td>None</td>\n",
              "    </tr>\n",
              "    <tr>\n",
              "      <th>27</th>\n",
              "      <td>tMkwHmWFUEXrC9ZduonpTg</td>\n",
              "      <td>The Green Pheasant</td>\n",
              "      <td>215 1st Ave S</td>\n",
              "      <td>TN</td>\n",
              "      <td>Nashville</td>\n",
              "      <td>4.0</td>\n",
              "      <td>37201</td>\n",
              "      <td>36.159886</td>\n",
              "      <td>-86.773197</td>\n",
              "      <td>161</td>\n",
              "      <td>...</td>\n",
              "      <td>NaN</td>\n",
              "      <td>NaN</td>\n",
              "      <td>NaN</td>\n",
              "      <td>NaN</td>\n",
              "      <td>NaN</td>\n",
              "      <td>True</td>\n",
              "      <td>True</td>\n",
              "      <td>False</td>\n",
              "      <td>False</td>\n",
              "      <td>True</td>\n",
              "    </tr>\n",
              "    <tr>\n",
              "      <th>83</th>\n",
              "      <td>NZ_bFJma7brQUfln5h1UAg</td>\n",
              "      <td>Super Sushi Kyo Hin</td>\n",
              "      <td>2501 Mt Holly Rd 245</td>\n",
              "      <td>NJ</td>\n",
              "      <td>Burlington</td>\n",
              "      <td>3.5</td>\n",
              "      <td>08016</td>\n",
              "      <td>40.041629</td>\n",
              "      <td>-74.825821</td>\n",
              "      <td>6</td>\n",
              "      <td>...</td>\n",
              "      <td>NaN</td>\n",
              "      <td>NaN</td>\n",
              "      <td>NaN</td>\n",
              "      <td>NaN</td>\n",
              "      <td>NaN</td>\n",
              "      <td>False</td>\n",
              "      <td>False</td>\n",
              "      <td>False</td>\n",
              "      <td>True</td>\n",
              "      <td>False</td>\n",
              "    </tr>\n",
              "    <tr>\n",
              "      <th>151</th>\n",
              "      <td>WYYdQDjx-DsCanlP0DpImQ</td>\n",
              "      <td>J Sushi</td>\n",
              "      <td>243 S 10th St</td>\n",
              "      <td>PA</td>\n",
              "      <td>Philadelphia</td>\n",
              "      <td>4.5</td>\n",
              "      <td>19107</td>\n",
              "      <td>39.947033</td>\n",
              "      <td>-75.157434</td>\n",
              "      <td>72</td>\n",
              "      <td>...</td>\n",
              "      <td>NaN</td>\n",
              "      <td>NaN</td>\n",
              "      <td>NaN</td>\n",
              "      <td>NaN</td>\n",
              "      <td>NaN</td>\n",
              "      <td>False</td>\n",
              "      <td>False</td>\n",
              "      <td>True</td>\n",
              "      <td>False</td>\n",
              "      <td>False</td>\n",
              "    </tr>\n",
              "    <tr>\n",
              "      <th>186</th>\n",
              "      <td>7Du9oW73YcYFmXdtU5aiSg</td>\n",
              "      <td>Kinjo's Japanese Restaurant</td>\n",
              "      <td>2875 Tyrone Blvd N</td>\n",
              "      <td>FL</td>\n",
              "      <td>Saint Petersburg</td>\n",
              "      <td>3.5</td>\n",
              "      <td>33710</td>\n",
              "      <td>27.797263</td>\n",
              "      <td>-82.733913</td>\n",
              "      <td>17</td>\n",
              "      <td>...</td>\n",
              "      <td>NaN</td>\n",
              "      <td>NaN</td>\n",
              "      <td>NaN</td>\n",
              "      <td>NaN</td>\n",
              "      <td>NaN</td>\n",
              "      <td>False</td>\n",
              "      <td>False</td>\n",
              "      <td>False</td>\n",
              "      <td>True</td>\n",
              "      <td>False</td>\n",
              "    </tr>\n",
              "  </tbody>\n",
              "</table>\n",
              "<p>5 rows × 52 columns</p>\n",
              "</div>\n",
              "      <button class=\"colab-df-convert\" onclick=\"convertToInteractive('df-87e9cdc9-9915-4917-9dee-b81bba89b44d')\"\n",
              "              title=\"Convert this dataframe to an interactive table.\"\n",
              "              style=\"display:none;\">\n",
              "        \n",
              "  <svg xmlns=\"http://www.w3.org/2000/svg\" height=\"24px\"viewBox=\"0 0 24 24\"\n",
              "       width=\"24px\">\n",
              "    <path d=\"M0 0h24v24H0V0z\" fill=\"none\"/>\n",
              "    <path d=\"M18.56 5.44l.94 2.06.94-2.06 2.06-.94-2.06-.94-.94-2.06-.94 2.06-2.06.94zm-11 1L8.5 8.5l.94-2.06 2.06-.94-2.06-.94L8.5 2.5l-.94 2.06-2.06.94zm10 10l.94 2.06.94-2.06 2.06-.94-2.06-.94-.94-2.06-.94 2.06-2.06.94z\"/><path d=\"M17.41 7.96l-1.37-1.37c-.4-.4-.92-.59-1.43-.59-.52 0-1.04.2-1.43.59L10.3 9.45l-7.72 7.72c-.78.78-.78 2.05 0 2.83L4 21.41c.39.39.9.59 1.41.59.51 0 1.02-.2 1.41-.59l7.78-7.78 2.81-2.81c.8-.78.8-2.07 0-2.86zM5.41 20L4 18.59l7.72-7.72 1.47 1.35L5.41 20z\"/>\n",
              "  </svg>\n",
              "      </button>\n",
              "      \n",
              "  <style>\n",
              "    .colab-df-container {\n",
              "      display:flex;\n",
              "      flex-wrap:wrap;\n",
              "      gap: 12px;\n",
              "    }\n",
              "\n",
              "    .colab-df-convert {\n",
              "      background-color: #E8F0FE;\n",
              "      border: none;\n",
              "      border-radius: 50%;\n",
              "      cursor: pointer;\n",
              "      display: none;\n",
              "      fill: #1967D2;\n",
              "      height: 32px;\n",
              "      padding: 0 0 0 0;\n",
              "      width: 32px;\n",
              "    }\n",
              "\n",
              "    .colab-df-convert:hover {\n",
              "      background-color: #E2EBFA;\n",
              "      box-shadow: 0px 1px 2px rgba(60, 64, 67, 0.3), 0px 1px 3px 1px rgba(60, 64, 67, 0.15);\n",
              "      fill: #174EA6;\n",
              "    }\n",
              "\n",
              "    [theme=dark] .colab-df-convert {\n",
              "      background-color: #3B4455;\n",
              "      fill: #D2E3FC;\n",
              "    }\n",
              "\n",
              "    [theme=dark] .colab-df-convert:hover {\n",
              "      background-color: #434B5C;\n",
              "      box-shadow: 0px 1px 3px 1px rgba(0, 0, 0, 0.15);\n",
              "      filter: drop-shadow(0px 1px 2px rgba(0, 0, 0, 0.3));\n",
              "      fill: #FFFFFF;\n",
              "    }\n",
              "  </style>\n",
              "\n",
              "      <script>\n",
              "        const buttonEl =\n",
              "          document.querySelector('#df-87e9cdc9-9915-4917-9dee-b81bba89b44d button.colab-df-convert');\n",
              "        buttonEl.style.display =\n",
              "          google.colab.kernel.accessAllowed ? 'block' : 'none';\n",
              "\n",
              "        async function convertToInteractive(key) {\n",
              "          const element = document.querySelector('#df-87e9cdc9-9915-4917-9dee-b81bba89b44d');\n",
              "          const dataTable =\n",
              "            await google.colab.kernel.invokeFunction('convertToInteractive',\n",
              "                                                     [key], {});\n",
              "          if (!dataTable) return;\n",
              "\n",
              "          const docLinkHtml = 'Like what you see? Visit the ' +\n",
              "            '<a target=\"_blank\" href=https://colab.research.google.com/notebooks/data_table.ipynb>data table notebook</a>'\n",
              "            + ' to learn more about interactive tables.';\n",
              "          element.innerHTML = '';\n",
              "          dataTable['output_type'] = 'display_data';\n",
              "          await google.colab.output.renderOutput(dataTable, element);\n",
              "          const docLink = document.createElement('div');\n",
              "          docLink.innerHTML = docLinkHtml;\n",
              "          element.appendChild(docLink);\n",
              "        }\n",
              "      </script>\n",
              "    </div>\n",
              "  </div>\n",
              "  "
            ]
          },
          "metadata": {},
          "execution_count": 30
        }
      ]
    },
    {
      "cell_type": "code",
      "source": [
        "sushi_park.to_csv('sushi_park.csv')"
      ],
      "metadata": {
        "id": "NMSeY4KC1ZaA"
      },
      "execution_count": 63,
      "outputs": []
    },
    {
      "cell_type": "code",
      "source": [
        "p1 = sns.countplot(x='stars', hue = 'RestaurantsDelivery', data = sushi_park)\n",
        "p1.legend(loc='upper left')\n",
        "p1.get_legend().set_title(\"Provide Delivery?\")\n",
        "plt.title('Distribution of Restaurants Delivery', size = 18)\n",
        "plt.xlabel(\"stars\", size = 14)\n",
        "plt.xticks(size = 14)\n",
        "plt.ylabel(\"count\", size = 14)\n",
        "plt.yticks(size = 14)\n",
        "plt.show()"
      ],
      "metadata": {
        "colab": {
          "base_uri": "https://localhost:8080/",
          "height": 307
        },
        "id": "VfJ6qErkNwAQ",
        "outputId": "24d96aff-5553-4f6c-8663-f02559a86ceb"
      },
      "execution_count": 101,
      "outputs": [
        {
          "output_type": "display_data",
          "data": {
            "text/plain": [
              "<Figure size 432x288 with 1 Axes>"
            ],
            "image/png": "[encoded data removed]"
          },
          "metadata": {
            "needs_background": "light"
          }
        }
      ]
    },
    {
      "cell_type": "code",
      "source": [
        "p2 = sns.countplot(x='stars', hue = 'RestaurantsReservations', data = sushi_park)\n",
        "p2.legend(loc='upper left')\n",
        "p2.get_legend().set_title(\"Provided Reservations?\")\n",
        "plt.title('Distribution of Restaurants Reservations', size = 18)\n",
        "plt.xlabel(\"stars\", size = 14)\n",
        "plt.xticks(size = 14)\n",
        "plt.ylabel(\"count\", size = 14)\n",
        "plt.yticks(size = 14)\n",
        "plt.show()"
      ],
      "metadata": {
        "colab": {
          "base_uri": "https://localhost:8080/",
          "height": 307
        },
        "id": "dFU3YzGH7ARZ",
        "outputId": "5b4b5160-494b-47c7-ebe4-b4170a4c186b"
      },
      "execution_count": 102,
      "outputs": [
        {
          "output_type": "display_data",
          "data": {
            "text/plain": [
              "<Figure size 432x288 with 1 Axes>"
            ],
            "image/png": "[encoded data removed]"
          },
          "metadata": {
            "needs_background": "light"
          }
        }
      ]
    },
    {
      "cell_type": "code",
      "source": [
        "p3 = sns.countplot(x='stars', hue = 'GoodForKids', data = sushi_park)\n",
        "p3.legend(loc='upper left')\n",
        "p3.get_legend().set_title(\"Good for Kids?\")\n",
        "plt.title('Distribution of Good for Kids', size = 18)\n",
        "plt.xlabel(\"stars\", size = 14)\n",
        "plt.xticks(size = 14)\n",
        "plt.ylabel(\"count\", size = 14)\n",
        "plt.yticks(size = 14)\n",
        "plt.show()"
      ],
      "metadata": {
        "colab": {
          "base_uri": "https://localhost:8080/",
          "height": 307
        },
        "id": "mI_eao6Y_tRB",
        "outputId": "a0d9da02-f67f-4a26-8328-276fcb9d0dec"
      },
      "execution_count": 118,
      "outputs": [
        {
          "output_type": "display_data",
          "data": {
            "text/plain": [
              "<Figure size 432x288 with 1 Axes>"
            ],
            "image/png": "[encoded data removed]"
          },
          "metadata": {
            "needs_background": "light"
          }
        }
      ]
    },
    {
      "cell_type": "code",
      "source": [
        "p4 = sns.countplot(x='stars', hue = 'WheelchairAccessible', data = sushi_park)\n",
        "p4.legend(loc='upper left')\n",
        "p4.get_legend().set_title(\"Wheelchair Accessible?\")\n",
        "plt.title('Distribution of Wheelchair Accessible', size = 18)\n",
        "plt.xlabel(\"stars\", size = 14)\n",
        "plt.xticks(size = 14)\n",
        "plt.ylabel(\"count\", size = 14)\n",
        "plt.yticks(size = 14)\n",
        "plt.show()"
      ],
      "metadata": {
        "colab": {
          "base_uri": "https://localhost:8080/",
          "height": 307
        },
        "id": "TV9a9Ut-RQ8Y",
        "outputId": "248d22c4-7c42-4091-d30d-cbbd786be48d"
      },
      "execution_count": 109,
      "outputs": [
        {
          "output_type": "display_data",
          "data": {
            "text/plain": [
              "<Figure size 432x288 with 1 Axes>"
            ],
            "image/png": "[encoded data removed]"
          },
          "metadata": {
            "needs_background": "light"
          }
        }
      ]
    },
    {
      "cell_type": "code",
      "source": [
        "p4 = sns.countplot(x='stars', hue = 'OutdoorSeating', data = sushi_park)\n",
        "p4.legend(loc='upper left')\n",
        "p4.get_legend().set_title(\"Having Outdoor Seating?\")\n",
        "plt.title('Distribution of Outdoor Seating', size = 18)\n",
        "plt.xlabel(\"stars\", size = 14)\n",
        "plt.xticks(size = 14)\n",
        "plt.ylabel(\"count\", size = 14)\n",
        "plt.yticks(size = 14)\n",
        "plt.show()"
      ],
      "metadata": {
        "colab": {
          "base_uri": "https://localhost:8080/",
          "height": 307
        },
        "id": "YSJwfCrmRp6z",
        "outputId": "b036fb08-64f1-4c65-b892-e91cbbe43fc1"
      },
      "execution_count": 58,
      "outputs": [
        {
          "output_type": "display_data",
          "data": {
            "text/plain": [
              "<Figure size 432x288 with 1 Axes>"
            ],
            "image/png": "[encoded data removed]"
          },
          "metadata": {
            "needs_background": "light"
          }
        }
      ]
    },
    {
      "cell_type": "code",
      "source": [
        "p4 = sns.countplot(x='stars', hue = 'BikeParking', data = sushi_park)\n",
        "p4.legend(loc='upper left')\n",
        "p4.get_legend().set_title(\"Having Bike Parking?\")\n",
        "plt.title('Distribution of Bike Parking', size = 18)\n",
        "plt.xlabel(\"stars\", size = 14)\n",
        "plt.xticks(size = 14)\n",
        "plt.ylabel(\"count\", size = 14)\n",
        "plt.yticks(size = 14)\n",
        "plt.show()"
      ],
      "metadata": {
        "colab": {
          "base_uri": "https://localhost:8080/",
          "height": 307
        },
        "id": "OpXU_Mb5R9bC",
        "outputId": "7da19f3c-75ce-403d-f9e2-37885b2d0ad4"
      },
      "execution_count": 59,
      "outputs": [
        {
          "output_type": "display_data",
          "data": {
            "text/plain": [
              "<Figure size 432x288 with 1 Axes>"
            ],
            "image/png": "[encoded data removed]"
          },
          "metadata": {
            "needs_background": "light"
          }
        }
      ]
    }
  ]
}
